{
  "nbformat": 4,
  "nbformat_minor": 0,
  "metadata": {
    "colab": {
      "provenance": []
    },
    "kernelspec": {
      "name": "python3",
      "display_name": "Python 3"
    },
    "language_info": {
      "name": "python"
    }
  },
  "cells": [
    {
      "cell_type": "markdown",
      "source": [
        "# **Income Inequality and an Innovative Approach to Its Measures**\n",
        "---\n",
        "## **Overview**\n",
        "This repository contains research on income inequality and the introduction of a novel measure, the **MMG ratio** (Mean-Median-GDP ratio). The study explores the relationship between traditional inequality measures, such as the Gini coefficient, and the newly proposed MMG ratio. The research applies statistical analysis and data visualization techniques to investigate income disparity across various countries.\n",
        "\n",
        "\n",
        "\n",
        "## **Table of Contents**\n",
        "### 1. Introduction\n",
        "- Income inequality and its socio-economic impact  \n",
        "- Research motivation  \n",
        "\n",
        "### 2. Literature Review\n",
        "- Traditional measures of income inequality  \n",
        "- The relationship between GDP, median, and mean income  \n",
        "- Gaps in existing research  \n",
        "\n",
        "### 3. Methodology\n",
        "- Data collection  \n",
        "- Data cleaning and organization  \n",
        "- Statistical analysis and visualization  \n",
        "- Limitations of the study  \n",
        "\n",
        "### 4. Results\n",
        "- MMG ratio formulation and analysis  \n",
        "- Regression and correlation analysis with the Gini coefficient  \n",
        "- Outlier detection and distribution patterns  \n",
        "\n",
        "### 5. Discussion and Conclusion\n",
        "- Interpretation of findings  \n",
        "- Policy implications  \n",
        "\n",
        "### 6. Future Research\n",
        "- Predictive modeling using historical data  \n",
        "- Trend analysis of income inequality  \n",
        "- Policy recommendations based on MMG trends  \n",
        "\n",
        "\n",
        "## **Prerequisites**\n",
        "To replicate the analysis and explore the dataset, ensure you have the following:\n",
        "- A basic understanding of statistical methods  \n",
        "- Familiarity with financial modeling concepts  \n",
        "- Python installed with necessary libraries (`Pandas`, `NumPy`, `Matplotlib`, `Seaborn`, `SciPy`)  \n",
        "\n",
        "\n",
        "## **Acknowledgments**\n",
        "This research is a product of the Riot Investment Society's Quantitative Research Division and was conducted by:  \n",
        "\n",
        "[**Nikola Dugandzija**](https://www.linkedin.com/in/nikola-dugand%C5%BEija-234060224/)  \n",
        "\n",
        "This work is part of a broader effort to develop innovative approaches for analyzing financial and economic disparities.\n",
        "\n",
        "If you find this research useful or have suggestions for improvements, feel free to contribute or reach out via [LinkedIn](https://www.linkedin.com/company/riot-investment-society/posts/?feedView=all).\n"
      ],
      "metadata": {
        "id": "0VWjugwVF7YC"
      }
    }
  ]
}